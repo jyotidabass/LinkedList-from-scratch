{
  "nbformat": 4,
  "nbformat_minor": 0,
  "metadata": {
    "colab": {
      "provenance": [],
      "authorship_tag": "ABX9TyMzLMgd4gPHVI4fBsGfJJlG",
      "include_colab_link": true
    },
    "kernelspec": {
      "name": "python3",
      "display_name": "Python 3"
    },
    "language_info": {
      "name": "python"
    }
  },
  "cells": [
    {
      "cell_type": "markdown",
      "metadata": {
        "id": "view-in-github",
        "colab_type": "text"
      },
      "source": [
        "<a href=\"https://colab.research.google.com/github/jyotidabass/LinkedList-from-scratch/blob/main/LinkedList_from_scratch.ipynb\" target=\"_parent\"><img src=\"https://colab.research.google.com/assets/colab-badge.svg\" alt=\"Open In Colab\"/></a>"
      ]
    },
    {
      "cell_type": "markdown",
      "source": [
        "# **here is a simple Python code for a linked list from scratch**\n",
        "\n",
        "\n",
        "This code defines two classes, Node and LinkedList.\n",
        "The Node class represents a single node in the linked list, it has a value attribute and a next attribute which is a reference to the next node in the list.\n",
        "\n",
        "The LinkedList class represents the linked list itself. It has a head attribute which is the first node in the list.\n",
        "\n",
        "*The add_node method is used to add a new node to the beginning of the list. It takes a value as an argument and creates a new node with that value. The new node's next attribute is set to the current head of the list, and the head is updated to point to the new node.*\n",
        "\n",
        "The remove_node method is used to remove a node from the list. It takes a value as an argument and searches the list for a node with that value. If a node with the given value is found, it removes that node from the list. It returns True if the node was removed, False otherwise. *italicized text*\n",
        "\n",
        "The print_list method is used to print the elements of the list. It starts from the head of the list and prints the value of each node until the last node.\n",
        "You can use this code in Google Colab by running the code in a code cell and then you can use the LinkedList class to create and manipulate a linked list.\n",
        "Please note that this is a simple implementation, there are other ways to implement linked lists in python and this implementation doesn't include all the features that you might need, but this should give you a good starting point."
      ],
      "metadata": {
        "id": "GZXQR20YI_aR"
      }
    },
    {
      "cell_type": "code",
      "execution_count": 1,
      "metadata": {
        "id": "70lIEq96H7ue"
      },
      "outputs": [],
      "source": [
        "class Node:\n",
        "    def __init__(self, value):\n",
        "        self.value = value\n",
        "        self.next = None\n",
        "\n",
        "class LinkedList:\n",
        "    def __init__(self):\n",
        "        self.head = None\n",
        "\n",
        "    def add_node(self, value):\n",
        "        new_node = Node(value)\n",
        "        new_node.next = self.head\n",
        "        self.head = new_node\n",
        "\n",
        "    def remove_node(self, value):\n",
        "        current = self.head\n",
        "        prev = None\n",
        "        while current is not None:\n",
        "            if current.value == value:\n",
        "                if prev is None:\n",
        "                    self.head = current.next\n",
        "                else:\n",
        "                    prev.next = current.next\n",
        "                return True\n",
        "            prev = current\n",
        "            current = current.next\n",
        "        return False\n",
        "\n",
        "    def print_list(self):\n",
        "        current = self.head\n",
        "        while current is not None:\n",
        "            print(current.value, end=' ')\n",
        "            current = current.next\n",
        "        print()"
      ]
    },
    {
      "cell_type": "markdown",
      "source": [
        "# **Thanks!!**"
      ],
      "metadata": {
        "id": "WBc4Bl9LJZN2"
      }
    }
  ]
}